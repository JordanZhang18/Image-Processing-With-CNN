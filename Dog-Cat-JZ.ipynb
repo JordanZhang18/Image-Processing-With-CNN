{
 "cells": [
  {
   "cell_type": "code",
   "execution_count": 1,
   "metadata": {
    "_cell_guid": "b1076dfc-b9ad-4769-8c92-a6c4dae69d19",
    "_uuid": "8f2839f25d086af736a60e9eeb907d3b93b6e0e5"
   },
   "outputs": [
    {
     "name": "stdout",
     "output_type": "stream",
     "text": [
      "/kaggle/input/dogs-vs-cats-redux-kernels-edition/test.zip\n",
      "/kaggle/input/dogs-vs-cats-redux-kernels-edition/train.zip\n",
      "/kaggle/input/dogs-vs-cats-redux-kernels-edition/sample_submission.csv\n"
     ]
    }
   ],
   "source": [
    "# This Python 3 environment comes with many helpful analytics libraries installed\n",
    "# It is defined by the kaggle/python Docker image: https://github.com/kaggle/docker-python\n",
    "# For example, here's several helpful packages to load\n",
    "\n",
    "import numpy as np # linear algebra\n",
    "import pandas as pd # data processing, CSV file I/O (e.g. pd.read_csv)\n",
    "\n",
    "# Input data files are available in the read-only \"../input/\" directory\n",
    "# For example, running this (by clicking run or pressing Shift+Enter) will list all files under the input directory\n",
    "\n",
    "import os\n",
    "for dirname, _, filenames in os.walk('/kaggle/input'):\n",
    "    for filename in filenames:\n",
    "        print(os.path.join(dirname, filename))\n",
    "\n",
    "# You can write up to 5GB to the current directory (/kaggle/working/) that gets preserved as output when you create a version using \"Save & Run All\" \n",
    "# You can also write temporary files to /kaggle/temp/, but they won't be saved outside of the current session"
   ]
  },
  {
   "cell_type": "code",
   "execution_count": 9,
   "metadata": {
    "_cell_guid": "79c7e3d0-c299-4dcb-8224-4455121ee9b0",
    "_uuid": "d629ff2d2480ee46fbb7e2d37f6b5fab8052498a"
   },
   "outputs": [],
   "source": [
    "import matplotlib.pyplot as plt\n",
    "\n",
    "from sklearn.model_selection import train_test_split\n",
    "from sklearn.preprocessing import LabelEncoder\n",
    "import tensorflow as tf\n",
    "from keras.preprocessing.image import ImageDataGenerator\n",
    "from keras.utils import to_categorical\n",
    "\n",
    "from keras.models import Sequential\n",
    "from keras.layers import Conv2D, MaxPooling2D, BatchNormalization, Dropout\n",
    "from keras.layers import Dense, Flatten\n",
    "from zipfile import ZipFile\n",
    "import cv2\n",
    "from tqdm import tqdm \n",
    "from random import shuffle  "
   ]
  },
  {
   "cell_type": "code",
   "execution_count": 13,
   "metadata": {},
   "outputs": [],
   "source": [
    "local_zip = '/kaggle/input/dogs-vs-cats-redux-kernels-edition/train.zip'\n",
    "zip_ref = ZipFile(local_zip, 'r')\n",
    "zip_ref.extractall('training_all')\n",
    "zip_ref.close()"
   ]
  },
  {
   "cell_type": "code",
   "execution_count": 14,
   "metadata": {},
   "outputs": [],
   "source": [
    "local_zip = '/kaggle/input/dogs-vs-cats-redux-kernels-edition/test.zip'\n",
    "zip_ref = ZipFile(local_zip, 'r')\n",
    "zip_ref.extractall('test_all')\n",
    "zip_ref.close()"
   ]
  },
  {
   "cell_type": "code",
   "execution_count": 15,
   "metadata": {},
   "outputs": [
    {
     "name": "stdout",
     "output_type": "stream",
     "text": [
      "12500\n"
     ]
    }
   ],
   "source": [
    "print(len(os.listdir('/kaggle/working/test_all/test')))"
   ]
  },
  {
   "cell_type": "code",
   "execution_count": 16,
   "metadata": {},
   "outputs": [],
   "source": [
    "TRAIN_DIR = '/kaggle/working/training_all/train'\n",
    "TEST_DIR = '/kaggle/working/test_all/test'\n",
    "IMG_SIZE=100"
   ]
  },
  {
   "cell_type": "code",
   "execution_count": 40,
   "metadata": {},
   "outputs": [
    {
     "data": {
      "text/plain": [
       "list"
      ]
     },
     "execution_count": 40,
     "metadata": {},
     "output_type": "execute_result"
    }
   ],
   "source": [
    "type(os.listdir(TRAIN_DIR))"
   ]
  },
  {
   "cell_type": "code",
   "execution_count": 41,
   "metadata": {},
   "outputs": [],
   "source": [
    "def label_img(img):\n",
    "    label = img.split('.')[0]\n",
    "    return label\n",
    "def create_train_data():\n",
    "    training_data = []\n",
    "    for img in tqdm(os.listdir(TRAIN_DIR)[:2500]):\n",
    "        label=label_img(img)\n",
    "        path = os.path.join(TRAIN_DIR,img)\n",
    "        img_num = img.split('.')[0]\n",
    "        img = cv2.imread(path,cv2.IMREAD_COLOR)\n",
    "        img = cv2.resize(img, (IMG_SIZE,IMG_SIZE))\n",
    "        training_data.append([np.array(img),str(label)]) \n",
    "        \n",
    "    shuffle(training_data)\n",
    "    return training_data"
   ]
  },
  {
   "cell_type": "code",
   "execution_count": 42,
   "metadata": {},
   "outputs": [
    {
     "name": "stderr",
     "output_type": "stream",
     "text": [
      "100%|██████████| 2500/2500 [00:05<00:00, 421.25it/s]\n"
     ]
    },
    {
     "name": "stdout",
     "output_type": "stream",
     "text": [
      "(2500, 2)\n"
     ]
    }
   ],
   "source": [
    "train_data=np.array(create_train_data())\n",
    "train_data_short=train_data\n",
    "print(train_data.shape)\n",
    "X= np.array([i[0] for i in train_data]).reshape(-1,IMG_SIZE,IMG_SIZE,3)\n",
    "Y= np.array([i[1] for i in train_data])"
   ]
  },
  {
   "cell_type": "code",
   "execution_count": 19,
   "metadata": {},
   "outputs": [],
   "source": [
    "def create_test_data():\n",
    "    test = []\n",
    "    for img in tqdm(os.listdir(TEST_DIR)):\n",
    "        label=label_img(img)\n",
    "        path = os.path.join(TEST_DIR,img)\n",
    "        img_num = img.split('.')[0]\n",
    "        img = cv2.imread(path,cv2.IMREAD_COLOR)\n",
    "        img = cv2.resize(img, (IMG_SIZE,IMG_SIZE))\n",
    "        test.append([np.array(img)])\n",
    "    shuffle(test)\n",
    "    return test"
   ]
  },
  {
   "cell_type": "code",
   "execution_count": 20,
   "metadata": {},
   "outputs": [
    {
     "name": "stderr",
     "output_type": "stream",
     "text": [
      "100%|██████████| 12500/12500 [00:29<00:00, 424.26it/s]\n"
     ]
    },
    {
     "name": "stdout",
     "output_type": "stream",
     "text": [
      "(12500, 1, 100, 100, 3)\n"
     ]
    }
   ],
   "source": [
    "test_data=np.array(create_test_data())\n",
    "print(test_data.shape)\n",
    "test= np.array([i[0] for i in test_data]).reshape(-1,IMG_SIZE,IMG_SIZE,3)"
   ]
  },
  {
   "cell_type": "code",
   "execution_count": 21,
   "metadata": {},
   "outputs": [
    {
     "data": {
      "text/plain": [
       "<matplotlib.image.AxesImage at 0x7fdcafc7be90>"
      ]
     },
     "execution_count": 21,
     "metadata": {},
     "output_type": "execute_result"
    },
    {
     "data": {
      "image/png": "[encoded data removed]",
      "text/plain": [
       "<Figure size 432x288 with 1 Axes>"
      ]
     },
     "metadata": {
      "needs_background": "light"
     },
     "output_type": "display_data"
    }
   ],
   "source": [
    "#show a pic\n",
    "plt.imshow(X[4])"
   ]
  },
  {
   "cell_type": "code",
   "execution_count": 43,
   "metadata": {},
   "outputs": [],
   "source": [
    "#ENCODE THE LABEL\n",
    "lab=LabelEncoder()\n",
    "Y=lab.fit_transform(Y)\n",
    "Y=to_categorical(Y)"
   ]
  },
  {
   "cell_type": "code",
   "execution_count": 44,
   "metadata": {},
   "outputs": [],
   "source": [
    "x_train,x_test,y_train,y_test=train_test_split(X,Y,test_size=0.1)"
   ]
  },
  {
   "cell_type": "code",
   "execution_count": 45,
   "metadata": {},
   "outputs": [],
   "source": [
    "#building model1: 8 layers of Conv2D, 4 layers of max pooling. filter size 32-64-96-96. One dense 256 nodes and outer layer.\n",
    "model1 = Sequential()\n",
    "model1.add(Conv2D(filters = 32, kernel_size = (5,5),padding = 'Same',activation ='relu', input_shape = (100,100,3)))\n",
    "model1.add(Conv2D(filters = 32, kernel_size = (5,5),padding = 'Same',activation ='relu'))\n",
    "model1.add(MaxPooling2D(pool_size=(2,2)))\n",
    "\n",
    "model1.add(Conv2D(filters = 64, kernel_size = (3,3),padding = 'Same',activation ='relu'))\n",
    "model1.add(Conv2D(filters = 64, kernel_size = (3,3),padding = 'Same',activation ='relu'))\n",
    "model1.add(MaxPooling2D(pool_size=(2,2), strides=(2,2)))\n",
    " \n",
    "\n",
    "model1.add(Conv2D(filters = 96, kernel_size = (3,3),padding = 'Same',activation ='relu'))\n",
    "model1.add(Conv2D(filters = 96, kernel_size = (3,3),padding = 'Same',activation ='relu'))\n",
    "model1.add(MaxPooling2D(pool_size=(2,2), strides=(2,2)))\n",
    " \n",
    "model1.add(Conv2D(filters =96, kernel_size = (3,3),padding = 'Same',activation ='relu'))\n",
    "model1.add(Conv2D(filters = 96, kernel_size = (3,3),padding = 'Same',activation ='relu'))\n",
    "model1.add(MaxPooling2D(pool_size=(2,2), strides=(2,2)))\n",
    "\n",
    "model1.add(Flatten())\n",
    "model1.add(Dense(256, activation = \"relu\"))\n",
    "model1.add(Dense(2, activation = \"sigmoid\"))\n",
    "\n",
    "model1.compile(optimizer='adam',loss='binary_crossentropy',metrics=['accuracy'])"
   ]
  },
  {
   "cell_type": "code",
   "execution_count": 47,
   "metadata": {},
   "outputs": [],
   "source": [
    "#Data Augmentation\n",
    "datagen = ImageDataGenerator(rescale=1. / 255,zoom_range=0.1,rotation_range=10,horizontal_flip=True)\n",
    "datagen.fit(x_train)"
   ]
  },
  {
   "cell_type": "code",
   "execution_count": 28,
   "metadata": {},
   "outputs": [
    {
     "name": "stdout",
     "output_type": "stream",
     "text": [
      "Model: \"sequential_2\"\n",
      "_________________________________________________________________\n",
      "Layer (type)                 Output Shape              Param #   \n",
      "=================================================================\n",
      "conv2d_9 (Conv2D)            (None, 100, 100, 32)      2432      \n",
      "_________________________________________________________________\n",
      "conv2d_10 (Conv2D)           (None, 100, 100, 32)      25632     \n",
      "_________________________________________________________________\n",
      "max_pooling2d_5 (MaxPooling2 (None, 50, 50, 32)        0         \n",
      "_________________________________________________________________\n",
      "conv2d_11 (Conv2D)           (None, 50, 50, 64)        18496     \n",
      "_________________________________________________________________\n",
      "conv2d_12 (Conv2D)           (None, 50, 50, 64)        36928     \n",
      "_________________________________________________________________\n",
      "max_pooling2d_6 (MaxPooling2 (None, 25, 25, 64)        0         \n",
      "_________________________________________________________________\n",
      "conv2d_13 (Conv2D)           (None, 25, 25, 96)        55392     \n",
      "_________________________________________________________________\n",
      "conv2d_14 (Conv2D)           (None, 25, 25, 96)        83040     \n",
      "_________________________________________________________________\n",
      "max_pooling2d_7 (MaxPooling2 (None, 12, 12, 96)        0         \n",
      "_________________________________________________________________\n",
      "conv2d_15 (Conv2D)           (None, 12, 12, 96)        83040     \n",
      "_________________________________________________________________\n",
      "conv2d_16 (Conv2D)           (None, 12, 12, 96)        83040     \n",
      "_________________________________________________________________\n",
      "max_pooling2d_8 (MaxPooling2 (None, 6, 6, 96)          0         \n",
      "_________________________________________________________________\n",
      "flatten_2 (Flatten)          (None, 3456)              0         \n",
      "_________________________________________________________________\n",
      "dense_3 (Dense)              (None, 256)               884992    \n",
      "_________________________________________________________________\n",
      "dense_4 (Dense)              (None, 2)                 514       \n",
      "=================================================================\n",
      "Total params: 1,273,506\n",
      "Trainable params: 1,273,506\n",
      "Non-trainable params: 0\n",
      "_________________________________________________________________\n"
     ]
    }
   ],
   "source": [
    "model1.summary()"
   ]
  },
  {
   "cell_type": "code",
   "execution_count": 48,
   "metadata": {},
   "outputs": [
    {
     "name": "stdout",
     "output_type": "stream",
     "text": [
      "Epoch 1/20\n",
      "18/18 [==============================] - 120s 7s/step - loss: 0.6917 - accuracy: 0.5183 - val_loss: 4.4110 - val_accuracy: 0.5360\n",
      "Epoch 2/20\n"
     ]
    },
    {
     "name": "stderr",
     "output_type": "stream",
     "text": [
      "/opt/conda/lib/python3.7/site-packages/keras/callbacks/callbacks.py:1042: RuntimeWarning: Reduce LR on plateau conditioned on metric `val_acc` which is not available. Available metrics are: val_loss,val_accuracy,loss,accuracy,lr\n",
      "  (self.monitor, ','.join(list(logs.keys()))), RuntimeWarning\n"
     ]
    },
    {
     "name": "stdout",
     "output_type": "stream",
     "text": [
      "18/18 [==============================] - 125s 7s/step - loss: 0.6917 - accuracy: 0.5181 - val_loss: 19.0383 - val_accuracy: 0.5460\n",
      "Epoch 3/20\n",
      "18/18 [==============================] - 120s 7s/step - loss: 0.6905 - accuracy: 0.5664 - val_loss: 61.6405 - val_accuracy: 0.5460\n",
      "Epoch 4/20\n",
      "18/18 [==============================] - 117s 6s/step - loss: 0.6786 - accuracy: 0.5683 - val_loss: 23.2419 - val_accuracy: 0.5920\n",
      "Epoch 5/20\n",
      "18/18 [==============================] - 119s 7s/step - loss: 0.6695 - accuracy: 0.5981 - val_loss: 42.5151 - val_accuracy: 0.6000\n",
      "Epoch 6/20\n",
      "18/18 [==============================] - 119s 7s/step - loss: 0.6558 - accuracy: 0.6209 - val_loss: 16.0862 - val_accuracy: 0.6440\n",
      "Epoch 7/20\n",
      "18/18 [==============================] - 122s 7s/step - loss: 0.6446 - accuracy: 0.6350 - val_loss: 70.1492 - val_accuracy: 0.6520\n",
      "Epoch 8/20\n",
      "18/18 [==============================] - 119s 7s/step - loss: 0.6268 - accuracy: 0.6546 - val_loss: 58.3551 - val_accuracy: 0.6700\n",
      "Epoch 9/20\n",
      "18/18 [==============================] - 118s 7s/step - loss: 0.6002 - accuracy: 0.6692 - val_loss: 29.5137 - val_accuracy: 0.7020\n",
      "Epoch 10/20\n",
      "18/18 [==============================] - 116s 6s/step - loss: 0.6164 - accuracy: 0.6640 - val_loss: 33.7142 - val_accuracy: 0.6920\n",
      "Epoch 11/20\n",
      "18/18 [==============================] - 120s 7s/step - loss: 0.6000 - accuracy: 0.6882 - val_loss: 64.1935 - val_accuracy: 0.6560\n",
      "Epoch 12/20\n",
      "18/18 [==============================] - 125s 7s/step - loss: 0.5935 - accuracy: 0.6939 - val_loss: 19.4724 - val_accuracy: 0.6780\n",
      "Epoch 13/20\n",
      "18/18 [==============================] - 119s 7s/step - loss: 0.6078 - accuracy: 0.6730 - val_loss: 36.9033 - val_accuracy: 0.6280\n",
      "Epoch 14/20\n",
      "18/18 [==============================] - 119s 7s/step - loss: 0.6219 - accuracy: 0.6575 - val_loss: 25.8474 - val_accuracy: 0.6280\n",
      "Epoch 15/20\n",
      "18/18 [==============================] - 118s 7s/step - loss: 0.5896 - accuracy: 0.6901 - val_loss: 39.3532 - val_accuracy: 0.6320\n",
      "Epoch 16/20\n",
      "18/18 [==============================] - 117s 7s/step - loss: 0.5623 - accuracy: 0.7127 - val_loss: 41.0646 - val_accuracy: 0.7280\n",
      "Epoch 17/20\n",
      "18/18 [==============================] - 117s 7s/step - loss: 0.5266 - accuracy: 0.7270 - val_loss: 42.5867 - val_accuracy: 0.7140\n",
      "Epoch 18/20\n",
      "18/18 [==============================] - 117s 7s/step - loss: 0.5165 - accuracy: 0.7354 - val_loss: 26.4671 - val_accuracy: 0.6660\n",
      "Epoch 19/20\n",
      "18/18 [==============================] - 119s 7s/step - loss: 0.4994 - accuracy: 0.7561 - val_loss: 33.9501 - val_accuracy: 0.6440\n",
      "Epoch 20/20\n",
      "18/18 [==============================] - 118s 7s/step - loss: 0.4953 - accuracy: 0.7603 - val_loss: 35.4565 - val_accuracy: 0.6820\n"
     ]
    }
   ],
   "source": [
    "History = model1.fit_generator(datagen.flow(x_train,y_train, batch_size=batch_size),\n",
    "                              epochs = epochs, validation_data = (x_test,y_test),\n",
    "                              verbose = 1, steps_per_epoch=x_train.shape[0] // batch_size)\n",
    "#total fitting cost 40 mins"
   ]
  },
  {
   "cell_type": "code",
   "execution_count": 49,
   "metadata": {},
   "outputs": [],
   "source": [
    "pred1=model1.predict(test)"
   ]
  },
  {
   "cell_type": "code",
   "execution_count": 52,
   "metadata": {},
   "outputs": [],
   "source": [
    "#write it to csv\n",
    "imageid=[]\n",
    "pred_prob=[]\n",
    "for i in range(len(test)):\n",
    "    imageid.append(i+1)\n",
    "    pred_prob.append(pred1[i,1])\n",
    "   \n",
    "d={'id':imageid,'label':pred_prob}\n",
    "ans=pd.DataFrame(d)\n",
    "ans.to_csv('predictions1.csv',index=False)"
   ]
  },
  {
   "cell_type": "code",
   "execution_count": 53,
   "metadata": {},
   "outputs": [],
   "source": [
    "#building model2: 4 layers of Conv2D, 4 layers of max pooling. filter size 32-64-96-96. One dense 256 nodes and outer layer.\n",
    "model2 = Sequential()\n",
    "model2.add(Conv2D(filters = 32, kernel_size = (5,5),padding = 'Same',activation ='relu', input_shape = (100,100,3)))\n",
    "#model1.add(Conv2D(filters = 32, kernel_size = (5,5),padding = 'Same',activation ='relu'))\n",
    "model2.add(MaxPooling2D(pool_size=(2,2)))\n",
    "\n",
    "model2.add(Conv2D(filters = 64, kernel_size = (3,3),padding = 'Same',activation ='relu'))\n",
    "#model1.add(Conv2D(filters = 64, kernel_size = (3,3),padding = 'Same',activation ='relu'))\n",
    "model2.add(MaxPooling2D(pool_size=(2,2), strides=(2,2)))\n",
    " \n",
    "\n",
    "model2.add(Conv2D(filters = 96, kernel_size = (3,3),padding = 'Same',activation ='relu'))\n",
    "#model1.add(Conv2D(filters = 96, kernel_size = (3,3),padding = 'Same',activation ='relu'))\n",
    "model2.add(MaxPooling2D(pool_size=(2,2), strides=(2,2)))\n",
    " \n",
    "model2.add(Conv2D(filters =96, kernel_size = (3,3),padding = 'Same',activation ='relu'))\n",
    "#model1.add(Conv2D(filters = 96, kernel_size = (3,3),padding = 'Same',activation ='relu'))\n",
    "model2.add(MaxPooling2D(pool_size=(2,2), strides=(2,2)))\n",
    "\n",
    "model2.add(Flatten())\n",
    "model2.add(Dense(256, activation = \"relu\"))\n",
    "model2.add(Dense(2, activation = \"sigmoid\"))\n",
    "\n",
    "model2.compile(optimizer='adam',loss='binary_crossentropy',metrics=['accuracy'])\n"
   ]
  },
  {
   "cell_type": "code",
   "execution_count": 54,
   "metadata": {},
   "outputs": [
    {
     "name": "stdout",
     "output_type": "stream",
     "text": [
      "Epoch 1/20\n",
      "18/18 [==============================] - 31s 2s/step - loss: 0.7079 - accuracy: 0.5094 - val_loss: 28.4143 - val_accuracy: 0.5360\n",
      "Epoch 2/20\n",
      "18/18 [==============================] - 31s 2s/step - loss: 0.6907 - accuracy: 0.5146 - val_loss: 26.8383 - val_accuracy: 0.5360\n",
      "Epoch 3/20\n",
      "18/18 [==============================] - 31s 2s/step - loss: 0.6889 - accuracy: 0.5096 - val_loss: 51.1820 - val_accuracy: 0.5400\n",
      "Epoch 4/20\n",
      "18/18 [==============================] - 31s 2s/step - loss: 0.6743 - accuracy: 0.5798 - val_loss: 128.9019 - val_accuracy: 0.5420\n",
      "Epoch 5/20\n",
      "18/18 [==============================] - 31s 2s/step - loss: 0.6610 - accuracy: 0.6082 - val_loss: 56.0131 - val_accuracy: 0.6120\n",
      "Epoch 6/20\n",
      "18/18 [==============================] - 31s 2s/step - loss: 0.6212 - accuracy: 0.6622 - val_loss: 55.4781 - val_accuracy: 0.6660\n",
      "Epoch 7/20\n",
      "18/18 [==============================] - 32s 2s/step - loss: 0.6279 - accuracy: 0.6641 - val_loss: 78.4640 - val_accuracy: 0.6080\n",
      "Epoch 8/20\n",
      "18/18 [==============================] - 30s 2s/step - loss: 0.6253 - accuracy: 0.6602 - val_loss: 91.1639 - val_accuracy: 0.5960\n",
      "Epoch 9/20\n",
      "18/18 [==============================] - 31s 2s/step - loss: 0.5963 - accuracy: 0.7045 - val_loss: 54.4553 - val_accuracy: 0.6500\n",
      "Epoch 10/20\n",
      "18/18 [==============================] - 30s 2s/step - loss: 0.6016 - accuracy: 0.6793 - val_loss: 100.0554 - val_accuracy: 0.6080\n",
      "Epoch 11/20\n",
      "18/18 [==============================] - 31s 2s/step - loss: 0.5582 - accuracy: 0.7111 - val_loss: 58.1506 - val_accuracy: 0.6960\n",
      "Epoch 12/20\n",
      "18/18 [==============================] - 30s 2s/step - loss: 0.5665 - accuracy: 0.7188 - val_loss: 109.0675 - val_accuracy: 0.6280\n",
      "Epoch 13/20\n",
      "18/18 [==============================] - 31s 2s/step - loss: 0.5287 - accuracy: 0.7343 - val_loss: 84.8742 - val_accuracy: 0.6820\n",
      "Epoch 14/20\n",
      "18/18 [==============================] - 30s 2s/step - loss: 0.5156 - accuracy: 0.7413 - val_loss: 123.9912 - val_accuracy: 0.6080\n",
      "Epoch 15/20\n",
      "18/18 [==============================] - 31s 2s/step - loss: 0.5115 - accuracy: 0.7589 - val_loss: 154.7882 - val_accuracy: 0.5880\n",
      "Epoch 16/20\n",
      "18/18 [==============================] - 31s 2s/step - loss: 0.5196 - accuracy: 0.7437 - val_loss: 90.0397 - val_accuracy: 0.6520\n",
      "Epoch 17/20\n",
      "18/18 [==============================] - 30s 2s/step - loss: 0.4959 - accuracy: 0.7543 - val_loss: 123.6606 - val_accuracy: 0.6180\n",
      "Epoch 18/20\n",
      "18/18 [==============================] - 31s 2s/step - loss: 0.4853 - accuracy: 0.7648 - val_loss: 124.4111 - val_accuracy: 0.6040\n",
      "Epoch 19/20\n",
      "18/18 [==============================] - 31s 2s/step - loss: 0.4469 - accuracy: 0.7986 - val_loss: 153.1589 - val_accuracy: 0.5920\n",
      "Epoch 20/20\n",
      "18/18 [==============================] - 29s 2s/step - loss: 0.4454 - accuracy: 0.7913 - val_loss: 148.0208 - val_accuracy: 0.6160\n",
      "Time2= 0:10:14.136992\n"
     ]
    }
   ],
   "source": [
    "from datetime import datetime\n",
    "start=datetime.now()\n",
    "History = model2.fit_generator(datagen.flow(x_train,y_train, batch_size=batch_size),\n",
    "                              epochs = epochs, validation_data = (x_test,y_test),\n",
    "                              verbose = 1, steps_per_epoch=x_train.shape[0] // batch_size)\n",
    "end=datetime.now()\n",
    "time2=end-start\n",
    "print('Time2=', time2)\n",
    "#total fitting cost 10 mins"
   ]
  },
  {
   "cell_type": "code",
   "execution_count": 55,
   "metadata": {},
   "outputs": [],
   "source": [
    "pred2=model2.predict(test)\n",
    "#write it to csv\n",
    "imageid=[]\n",
    "pred_prob=[]\n",
    "for i in range(len(test)):\n",
    "    imageid.append(i+1)\n",
    "    pred_prob.append(pred2[i,1])\n",
    "   \n",
    "d={'id':imageid,'label':pred_prob}\n",
    "ans=pd.DataFrame(d)\n",
    "ans.to_csv('predictions2.csv',index=False)"
   ]
  },
  {
   "cell_type": "code",
   "execution_count": null,
   "metadata": {},
   "outputs": [],
   "source": [
    "#score is poor. I think overfitting is possibly due to too many epochs. Going to reduce to half (10)"
   ]
  },
  {
   "cell_type": "code",
   "execution_count": 57,
   "metadata": {},
   "outputs": [
    {
     "name": "stdout",
     "output_type": "stream",
     "text": [
      "Epoch 1/10\n",
      "18/18 [==============================] - 119s 7s/step - loss: 0.6963 - accuracy: 0.4967 - val_loss: 0.8000 - val_accuracy: 0.5360\n",
      "Epoch 2/10\n",
      "18/18 [==============================] - 118s 7s/step - loss: 0.6927 - accuracy: 0.5103 - val_loss: 22.5508 - val_accuracy: 0.5360\n",
      "Epoch 3/10\n",
      "18/18 [==============================] - 119s 7s/step - loss: 0.6930 - accuracy: 0.4960 - val_loss: 0.7408 - val_accuracy: 0.4660\n",
      "Epoch 4/10\n",
      "18/18 [==============================] - 129s 7s/step - loss: 0.6932 - accuracy: 0.4930 - val_loss: 0.7296 - val_accuracy: 0.4640\n",
      "Epoch 5/10\n",
      "18/18 [==============================] - 118s 7s/step - loss: 0.6931 - accuracy: 0.5061 - val_loss: 0.7146 - val_accuracy: 0.4640\n",
      "Epoch 6/10\n",
      "18/18 [==============================] - 121s 7s/step - loss: 0.6932 - accuracy: 0.5009 - val_loss: 0.7186 - val_accuracy: 0.4640\n",
      "Epoch 7/10\n",
      "18/18 [==============================] - 118s 7s/step - loss: 0.6930 - accuracy: 0.5150 - val_loss: 0.7050 - val_accuracy: 0.4600\n",
      "Epoch 8/10\n",
      "18/18 [==============================] - 117s 7s/step - loss: 0.6929 - accuracy: 0.5152 - val_loss: 0.6991 - val_accuracy: 0.5080\n",
      "Epoch 9/10\n",
      "18/18 [==============================] - 128s 7s/step - loss: 0.6932 - accuracy: 0.5032 - val_loss: 0.7118 - val_accuracy: 0.5060\n",
      "Epoch 10/10\n",
      "18/18 [==============================] - 117s 6s/step - loss: 0.6931 - accuracy: 0.5052 - val_loss: 0.7283 - val_accuracy: 0.4860\n",
      "Time3= 0:20:05.992064\n"
     ]
    }
   ],
   "source": [
    "#repeat model 1 but with 10 epoch.\n",
    "#building model3: 8 layers of Conv2D, 4 layers of max pooling. filter size 32-64-96-96. One dense 256 nodes and outer layer.\n",
    "model3 = Sequential()\n",
    "model3.add(Conv2D(filters = 32, kernel_size = (5,5),padding = 'Same',activation ='relu', input_shape = (100,100,3)))\n",
    "model3.add(Conv2D(filters = 32, kernel_size = (5,5),padding = 'Same',activation ='relu'))\n",
    "model3.add(MaxPooling2D(pool_size=(2,2)))\n",
    "\n",
    "model3.add(Conv2D(filters = 64, kernel_size = (3,3),padding = 'Same',activation ='relu'))\n",
    "model3.add(Conv2D(filters = 64, kernel_size = (3,3),padding = 'Same',activation ='relu'))\n",
    "model3.add(MaxPooling2D(pool_size=(2,2), strides=(2,2)))\n",
    " \n",
    "\n",
    "model3.add(Conv2D(filters = 96, kernel_size = (3,3),padding = 'Same',activation ='relu'))\n",
    "model3.add(Conv2D(filters = 96, kernel_size = (3,3),padding = 'Same',activation ='relu'))\n",
    "model3.add(MaxPooling2D(pool_size=(2,2), strides=(2,2)))\n",
    " \n",
    "model3.add(Conv2D(filters =96, kernel_size = (3,3),padding = 'Same',activation ='relu'))\n",
    "model3.add(Conv2D(filters = 96, kernel_size = (3,3),padding = 'Same',activation ='relu'))\n",
    "model3.add(MaxPooling2D(pool_size=(2,2), strides=(2,2)))\n",
    "\n",
    "model3.add(Flatten())\n",
    "model3.add(Dense(256, activation = \"relu\"))\n",
    "model3.add(Dense(2, activation = \"sigmoid\"))\n",
    "\n",
    "model3.compile(optimizer='adam',loss='binary_crossentropy',metrics=['accuracy'])\n",
    "\n",
    "from datetime import datetime\n",
    "start=datetime.now()\n",
    "History = model3.fit_generator(datagen.flow(x_train,y_train, batch_size=batch_size),\n",
    "                              epochs = 10, validation_data = (x_test,y_test),\n",
    "                              verbose = 1, steps_per_epoch=x_train.shape[0] // batch_size)\n",
    "end=datetime.now()\n",
    "time3=end-start\n",
    "print('Time3=', time3) #20 min"
   ]
  },
  {
   "cell_type": "code",
   "execution_count": 58,
   "metadata": {},
   "outputs": [],
   "source": [
    "pred3=model3.predict(test)\n",
    "#write it to csv\n",
    "imageid=[]\n",
    "pred_prob=[]\n",
    "for i in range(len(test)):\n",
    "    imageid.append(i+1)\n",
    "    pred_prob.append(pred3[i,1])\n",
    "   \n",
    "d={'id':imageid,'label':pred_prob}\n",
    "ans=pd.DataFrame(d)\n",
    "ans.to_csv('predictions3.csv',index=False)"
   ]
  },
  {
   "cell_type": "code",
   "execution_count": 59,
   "metadata": {},
   "outputs": [
    {
     "name": "stdout",
     "output_type": "stream",
     "text": [
      "Epoch 1/10\n",
      "18/18 [==============================] - 31s 2s/step - loss: 0.6990 - accuracy: 0.5075 - val_loss: 8.4315 - val_accuracy: 0.5380\n",
      "Epoch 2/10\n",
      "18/18 [==============================] - 31s 2s/step - loss: 0.6884 - accuracy: 0.5425 - val_loss: 15.5135 - val_accuracy: 0.5460\n",
      "Epoch 3/10\n",
      "18/18 [==============================] - 31s 2s/step - loss: 0.6800 - accuracy: 0.5627 - val_loss: 17.7605 - val_accuracy: 0.5920\n",
      "Epoch 4/10\n",
      "18/18 [==============================] - 31s 2s/step - loss: 0.6538 - accuracy: 0.6090 - val_loss: 94.3178 - val_accuracy: 0.5540\n",
      "Epoch 5/10\n",
      "18/18 [==============================] - 31s 2s/step - loss: 0.6419 - accuracy: 0.6406 - val_loss: 87.9238 - val_accuracy: 0.6140\n",
      "Epoch 6/10\n",
      "18/18 [==============================] - 31s 2s/step - loss: 0.6323 - accuracy: 0.6465 - val_loss: 39.6624 - val_accuracy: 0.6280\n",
      "Epoch 7/10\n",
      "18/18 [==============================] - 46s 3s/step - loss: 0.5984 - accuracy: 0.6869 - val_loss: 125.7480 - val_accuracy: 0.5640\n",
      "Epoch 8/10\n",
      "18/18 [==============================] - 32s 2s/step - loss: 0.5894 - accuracy: 0.6787 - val_loss: 58.6839 - val_accuracy: 0.6460\n",
      "Epoch 9/10\n",
      "18/18 [==============================] - 30s 2s/step - loss: 0.5606 - accuracy: 0.7121 - val_loss: 107.7141 - val_accuracy: 0.6020\n",
      "Epoch 10/10\n",
      "18/18 [==============================] - 32s 2s/step - loss: 0.5808 - accuracy: 0.6833 - val_loss: 42.0096 - val_accuracy: 0.6480\n",
      "Time4= 0:05:26.658795\n"
     ]
    }
   ],
   "source": [
    "#building model4: 10epoch 4 layers of Conv2D, 4 layers of max pooling. filter size 32-64-96-96. One dense 256 nodes and outer layer.\n",
    "model4 = Sequential()\n",
    "model4.add(Conv2D(filters = 32, kernel_size = (5,5),padding = 'Same',activation ='relu', input_shape = (100,100,3)))\n",
    "#model1.add(Conv2D(filters = 32, kernel_size = (5,5),padding = 'Same',activation ='relu'))\n",
    "model4.add(MaxPooling2D(pool_size=(2,2)))\n",
    "\n",
    "model4.add(Conv2D(filters = 64, kernel_size = (3,3),padding = 'Same',activation ='relu'))\n",
    "#model1.add(Conv2D(filters = 64, kernel_size = (3,3),padding = 'Same',activation ='relu'))\n",
    "model4.add(MaxPooling2D(pool_size=(2,2), strides=(2,2)))\n",
    " \n",
    "\n",
    "model4.add(Conv2D(filters = 96, kernel_size = (3,3),padding = 'Same',activation ='relu'))\n",
    "#model1.add(Conv2D(filters = 96, kernel_size = (3,3),padding = 'Same',activation ='relu'))\n",
    "model4.add(MaxPooling2D(pool_size=(2,2), strides=(2,2)))\n",
    " \n",
    "model4.add(Conv2D(filters =96, kernel_size = (3,3),padding = 'Same',activation ='relu'))\n",
    "#model1.add(Conv2D(filters = 96, kernel_size = (3,3),padding = 'Same',activation ='relu'))\n",
    "model4.add(MaxPooling2D(pool_size=(2,2), strides=(2,2)))\n",
    "\n",
    "model4.add(Flatten())\n",
    "model4.add(Dense(256, activation = \"relu\"))\n",
    "model4.add(Dense(2, activation = \"sigmoid\"))\n",
    "\n",
    "model4.compile(optimizer='adam',loss='binary_crossentropy',metrics=['accuracy'])\n",
    "from datetime import datetime\n",
    "start=datetime.now()\n",
    "History = model4.fit_generator(datagen.flow(x_train,y_train, batch_size=batch_size),\n",
    "                              epochs = 10, validation_data = (x_test,y_test),\n",
    "                              verbose = 1, steps_per_epoch=x_train.shape[0] // batch_size)\n",
    "end=datetime.now()\n",
    "time4=end-start\n",
    "print('Time4=', time4) # min"
   ]
  },
  {
   "cell_type": "code",
   "execution_count": null,
   "metadata": {},
   "outputs": [],
   "source": [
    "pred4=model4.predict(test)\n",
    "#write it to csv\n",
    "imageid=[]\n",
    "pred_prob=[]\n",
    "for i in range(len(test)):\n",
    "    imageid.append(i+1)\n",
    "    pred_prob.append(pred4[i,1])\n",
    "   \n",
    "d={'id':imageid,'label':pred_prob}\n",
    "ans=pd.DataFrame(d)\n",
    "ans.to_csv('predictions4.csv',index=False)"
   ]
  }
 ],
 "metadata": {
  "kernelspec": {
   "display_name": "Python 3",
   "language": "python",
   "name": "python3"
  },
  "language_info": {
   "codemirror_mode": {
    "name": "ipython",
    "version": 3
   },
   "file_extension": ".py",
   "mimetype": "text/x-python",
   "name": "python",
   "nbconvert_exporter": "python",
   "pygments_lexer": "ipython3",
   "version": "3.7.3"
  }
 },
 "nbformat": 4,
 "nbformat_minor": 4
}
